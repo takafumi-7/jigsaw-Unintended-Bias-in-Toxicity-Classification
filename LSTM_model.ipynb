{
 "cells": [
  {
   "cell_type": "code",
   "execution_count": 1,
   "metadata": {
    "_cell_guid": "b1076dfc-b9ad-4769-8c92-a6c4dae69d19",
    "_uuid": "8f2839f25d086af736a60e9eeb907d3b93b6e0e5"
   },
   "outputs": [
    {
     "name": "stderr",
     "output_type": "stream",
     "text": [
      "Using TensorFlow backend.\n"
     ]
    }
   ],
   "source": [
    "import pandas as pd\n",
    "import numpy as np\n",
    "import gc\n",
    "import re\n",
    "from scipy.sparse import csr_matrix\n",
    "from keras.models import Sequential\n",
    "from keras.layers import CuDNNLSTM, Dense, Embedding, Dropout\n",
    "from keras.preprocessing.text import Tokenizer\n",
    "from keras.preprocessing.sequence import pad_sequences\n",
    "from sklearn.metrics import roc_auc_score"
   ]
  },
  {
   "cell_type": "code",
   "execution_count": 2,
   "metadata": {
    "_cell_guid": "79c7e3d0-c299-4dcb-8224-4455121ee9b0",
    "_uuid": "d629ff2d2480ee46fbb7e2d37f6b5fab8052498a"
   },
   "outputs": [],
   "source": [
    "def arrange_words(text):\n",
    "    text = text.replace('!', '')\n",
    "    text = text.replace('?', '')\n",
    "    text = text.replace(',', '')\n",
    "    text = text.replace('.', '')\n",
    "    text = text.replace('“', '')\n",
    "    text = text.replace('”', '')\n",
    "    text = text.replace('‘', '')\n",
    "    text = text.replace('’', '')\n",
    "    text = text.replace('•', '')\n",
    "    text = text.replace('・', '')\n",
    "    text = text.replace('…', '')\n",
    "    text = text.replace(':', '')\n",
    "    text = text.replace(';', '')\n",
    "    text = text.replace('(', '')\n",
    "    text = text.replace(')', '')\n",
    "    text = text.replace('{', '')\n",
    "    text = text.replace('}', '')\n",
    "    text = text.replace('[', '')\n",
    "    text = text.replace(']', '')\n",
    "    text = text.replace('<', '')\n",
    "    text = text.replace('>', '')\n",
    "    text = text.replace('\\'', '')\n",
    "    text = text.replace('\\/', '')\n",
    "    text = text.replace('\"', '')\n",
    "    text = text.replace('-', ' ')\n",
    "    text = text.replace('_', ' ')\n",
    "    text = text.replace('\\n', ' ')\n",
    "    text = text.replace('\\r', ' ')\n",
    "    text = text.replace('#', '')\n",
    "    text = re.sub(r'[0-9]+', \"0\", text)\n",
    "    text = ' ' + text + ' '\n",
    "    return text"
   ]
  },
  {
   "cell_type": "code",
   "execution_count": 3,
   "metadata": {},
   "outputs": [],
   "source": [
    "dtypes = {\n",
    "        'id':                                             'category',\n",
    "        'target':                                       'float16', \n",
    "        'comment_text':                           'category', \n",
    "        'severe_toxicity':                           'float16', \n",
    "        'obscene':                                    'float16', \n",
    "        'identity_attack':                           'float16', \n",
    "        'insult':                                         'float16', \n",
    "        'threat':                                        'float16', \n",
    "        'asian':                                         'float16', \n",
    "        'atheist':                                       'float16', \n",
    "        'bisexual':                                     'float16', \n",
    "        'black':                                         'float16', \n",
    "        'buddhist':                                    'float16', \n",
    "        'christian':                                    'float16', \n",
    "        'female':                                       'float16', \n",
    "        'heterosexual':                              'float16', \n",
    "        'hindu':                                         'float16', \n",
    "        'homosexual_gay_or_lesbian':        'float16', \n",
    "        'intellectual_or_learning_disability': 'float16', \n",
    "        'jewish':                                        'float16', \n",
    "        'latino':                                         'float16', \n",
    "        'male':                                          'float16', \n",
    "        'muslim':                                       'float16', \n",
    "        'other_disability':                           'float16', \n",
    "        'other_gender':                             'float16', \n",
    "        'other_race_or_ethnicity':              'float16', \n",
    "        'other_religion':                             'float16', \n",
    "        'other_sexual_orientation':             'float16', \n",
    "        'physical_disability':                       'float16', \n",
    "        'psychiatric_or_mental_illness':       'float16', \n",
    "        'transgender':                                'float16', \n",
    "        'white':                                          'float16', \n",
    "        'created_date':                              'category', \n",
    "        'publication_id':                             'category', \n",
    "        'parent_id':                                    'category', \n",
    "        'article_id':                                     'category', \n",
    "        'rating':                                         'category', \n",
    "        'funny':                                         'int8', \n",
    "        'wow':                                           'int8', \n",
    "        'sad':                                             'int8', \n",
    "        'likes':                                            'int8', \n",
    "        'disagree':                                     'int8', \n",
    "        'sexual_explicit':                             'float16', \n",
    "        'identity_annotator_count':             'int8', \n",
    "        'toxicity_annotator_count':             'int8', \n",
    "        }"
   ]
  },
  {
   "cell_type": "code",
   "execution_count": 4,
   "metadata": {},
   "outputs": [
    {
     "data": {
      "text/plain": [
       "5590"
      ]
     },
     "execution_count": 4,
     "metadata": {},
     "output_type": "execute_result"
    }
   ],
   "source": [
    "train = pd.read_csv('../input/train.csv', dtype=dtypes)\n",
    "test  = pd.read_csv('../input/test.csv',  dtype=dtypes)\n",
    "train_ids = train.index\n",
    "test_ids  = test.index\n",
    "train_y = train['target'].apply(lambda x: 1 if x>=0.5 else 0)\n",
    "train_X = train.drop('target', axis=1)\n",
    "test_X = test\n",
    "gc.collect()"
   ]
  },
  {
   "cell_type": "code",
   "execution_count": 5,
   "metadata": {},
   "outputs": [],
   "source": [
    "train_X['comment_text_arranged'] = train_X['comment_text'].map(arrange_words)\n",
    "test_X['comment_text_arranged'] = test_X['comment_text'].map(arrange_words)"
   ]
  },
  {
   "cell_type": "code",
   "execution_count": 6,
   "metadata": {},
   "outputs": [],
   "source": [
    "tokenizer = Tokenizer(num_words=100000)\n",
    "tokenizer.fit_on_texts(pd.concat([train_X['comment_text_arranged'], test_X['comment_text_arranged']]))\n",
    "train_X_tokenized = tokenizer.texts_to_sequences(train_X['comment_text_arranged'])\n",
    "test_X_tokenized = tokenizer.texts_to_sequences(test_X['comment_text_arranged'])"
   ]
  },
  {
   "cell_type": "code",
   "execution_count": 7,
   "metadata": {},
   "outputs": [],
   "source": [
    "max_len = np.array([len(sentence) for sentence in train_X_tokenized + test_X_tokenized]).max()\n",
    "train_X_padded = pad_sequences(train_X_tokenized, maxlen=max_len)\n",
    "test_X_padded = pad_sequences(test_X_tokenized, maxlen=max_len)"
   ]
  },
  {
   "cell_type": "code",
   "execution_count": 8,
   "metadata": {},
   "outputs": [
    {
     "name": "stdout",
     "output_type": "stream",
     "text": [
      "WARNING:tensorflow:From /opt/conda/lib/python3.6/site-packages/tensorflow/python/framework/op_def_library.py:263: colocate_with (from tensorflow.python.framework.ops) is deprecated and will be removed in a future version.\n",
      "Instructions for updating:\n",
      "Colocations handled automatically by placer.\n",
      "WARNING:tensorflow:From /opt/conda/lib/python3.6/site-packages/keras/backend/tensorflow_backend.py:3445: calling dropout (from tensorflow.python.ops.nn_ops) with keep_prob is deprecated and will be removed in a future version.\n",
      "Instructions for updating:\n",
      "Please use `rate` instead of `keep_prob`. Rate should be set to `rate = 1 - keep_prob`.\n",
      "WARNING:tensorflow:From /opt/conda/lib/python3.6/site-packages/tensorflow/python/ops/math_ops.py:3066: to_int32 (from tensorflow.python.ops.math_ops) is deprecated and will be removed in a future version.\n",
      "Instructions for updating:\n",
      "Use tf.cast instead.\n",
      "Epoch 1/2\n",
      " 339776/1804874 [====>.........................] - ETA: 37:13 - loss: 0.1678 - acc: 0.9413"
     ]
    }
   ],
   "source": [
    "test_result  = np.zeros(test_ids.shape[0])\n",
    "vocabulary_size = len(tokenizer.word_index) + 1\n",
    "\n",
    "X_fit = csr_matrix(train_X_padded, dtype='float32')\n",
    "y_fit = train_y\n",
    "gc.collect()\n",
    "\n",
    "model = Sequential()\n",
    "\n",
    "model.add(Embedding(input_dim=vocabulary_size, output_dim=64))\n",
    "model.add(CuDNNLSTM(512, return_sequences=False))\n",
    "model.add(Dropout(0.25))\n",
    "model.add(Dense(1, activation='sigmoid'))\n",
    "\n",
    "model.compile(loss='binary_crossentropy', optimizer='adam', metrics=['accuracy'])\n",
    "model.fit(X_fit, y_fit, epochs=2, batch_size=32)\n",
    "\n",
    "\n",
    "\n",
    "del X_fit\n",
    "gc.collect()\n",
    "    \n",
    "test = csr_matrix(test_X_padded, dtype='float32')\n",
    "test_result += model.predict_proba(test)[:,0]\n",
    "\n",
    "del test\n",
    "gc.collect()\n",
    "    \n",
    "\n",
    "submission = pd.read_csv('../input/sample_submission.csv')\n",
    "submission['prediction'] = test_result\n",
    "submission.to_csv('./submission.csv', index=False)"
   ]
  },
  {
   "cell_type": "code",
   "execution_count": 9,
   "metadata": {},
   "outputs": [],
   "source": []
  }
 ],
 "metadata": {
  "kernelspec": {
   "display_name": "Python 3",
   "language": "python",
   "name": "python3"
  },
  "language_info": {
   "codemirror_mode": {
    "name": "ipython",
    "version": 3
   },
   "file_extension": ".py",
   "mimetype": "text/x-python",
   "name": "python",
   "nbconvert_exporter": "python",
   "pygments_lexer": "ipython3",
   "version": "3.6.4"
  }
 },
 "nbformat": 4,
 "nbformat_minor": 1
}
